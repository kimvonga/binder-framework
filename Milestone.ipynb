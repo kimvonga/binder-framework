{
 "cells": [
  {
   "cell_type": "code",
   "execution_count": 1,
   "metadata": {},
   "outputs": [],
   "source": [
    "import numpy as np\n",
    "import pandas as pd\n",
    "import matplotlib.pyplot as plt"
   ]
  },
  {
   "cell_type": "markdown",
   "metadata": {},
   "source": [
    "## Milestone Actions of Day 4"
   ]
  },
  {
   "cell_type": "code",
   "execution_count": 2,
   "metadata": {},
   "outputs": [],
   "source": [
    "data = pd.read_csv('Value_of_Energy_Cost_Savings_Program_Savings_for_Businesses_-_FY2020.csv')"
   ]
  },
  {
   "cell_type": "code",
   "execution_count": 3,
   "metadata": {},
   "outputs": [
    {
     "data": {
      "text/plain": [
       "(450, 26)"
      ]
     },
     "execution_count": 3,
     "metadata": {},
     "output_type": "execute_result"
    }
   ],
   "source": [
    "data.shape"
   ]
  },
  {
   "cell_type": "code",
   "execution_count": 4,
   "metadata": {},
   "outputs": [
    {
     "data": {
      "text/plain": [
       "Index(['Company Name', 'company contact', 'company email', 'company phone',\n",
       "       'Address', 'City', 'State', 'Postcode', 'Industry', 'Industry descr',\n",
       "       'Company Type', 'Current fulltime', 'Job created', 'Job retain',\n",
       "       'Effective Date', 'Total Savings',\n",
       "       'Savings from beginning receiving benefits', 'Borough', 'Latitude',\n",
       "       'Longitude', 'Community Board', 'Council District', 'Census Tract',\n",
       "       'BIN', 'BBL', 'NTA'],\n",
       "      dtype='object')"
      ]
     },
     "execution_count": 4,
     "metadata": {},
     "output_type": "execute_result"
    }
   ],
   "source": [
    "data.columns"
   ]
  },
  {
   "cell_type": "markdown",
   "metadata": {},
   "source": [
    "Question 1"
   ]
  },
  {
   "cell_type": "code",
   "execution_count": 5,
   "metadata": {},
   "outputs": [
    {
     "name": "stdout",
     "output_type": "stream",
     "text": [
      "Number of different companies: 438\n"
     ]
    }
   ],
   "source": [
    "print('Number of different companies: '+str(len(set(data['Company Name']))-1))"
   ]
  },
  {
   "cell_type": "markdown",
   "metadata": {},
   "source": [
    "Question 2"
   ]
  },
  {
   "cell_type": "code",
   "execution_count": 6,
   "metadata": {},
   "outputs": [
    {
     "data": {
      "text/html": [
       "<div>\n",
       "<style scoped>\n",
       "    .dataframe tbody tr th:only-of-type {\n",
       "        vertical-align: middle;\n",
       "    }\n",
       "\n",
       "    .dataframe tbody tr th {\n",
       "        vertical-align: top;\n",
       "    }\n",
       "\n",
       "    .dataframe thead th {\n",
       "        text-align: right;\n",
       "    }\n",
       "</style>\n",
       "<table border=\"1\" class=\"dataframe\">\n",
       "  <thead>\n",
       "    <tr style=\"text-align: right;\">\n",
       "      <th></th>\n",
       "      <th>Postcode</th>\n",
       "      <th>Current fulltime</th>\n",
       "      <th>Job created</th>\n",
       "      <th>Job retain</th>\n",
       "      <th>Total Savings</th>\n",
       "      <th>Savings from beginning receiving benefits</th>\n",
       "      <th>Latitude</th>\n",
       "      <th>Longitude</th>\n",
       "      <th>Community Board</th>\n",
       "      <th>Council District</th>\n",
       "      <th>Census Tract</th>\n",
       "      <th>BIN</th>\n",
       "      <th>BBL</th>\n",
       "    </tr>\n",
       "    <tr>\n",
       "      <th>Borough</th>\n",
       "      <th></th>\n",
       "      <th></th>\n",
       "      <th></th>\n",
       "      <th></th>\n",
       "      <th></th>\n",
       "      <th></th>\n",
       "      <th></th>\n",
       "      <th></th>\n",
       "      <th></th>\n",
       "      <th></th>\n",
       "      <th></th>\n",
       "      <th></th>\n",
       "      <th></th>\n",
       "    </tr>\n",
       "  </thead>\n",
       "  <tbody>\n",
       "    <tr>\n",
       "      <th>Bronx</th>\n",
       "      <td>461091</td>\n",
       "      <td>6871.0</td>\n",
       "      <td>22.0</td>\n",
       "      <td>61.0</td>\n",
       "      <td>2630578.85</td>\n",
       "      <td>24356310.51</td>\n",
       "      <td>1714.567956</td>\n",
       "      <td>-3103.272930</td>\n",
       "      <td>8566.0</td>\n",
       "      <td>609.0</td>\n",
       "      <td>109651.0</td>\n",
       "      <td>80534929.0</td>\n",
       "      <td>7.918972e+10</td>\n",
       "    </tr>\n",
       "    <tr>\n",
       "      <th>Brooklyn</th>\n",
       "      <td>2074816</td>\n",
       "      <td>16197.0</td>\n",
       "      <td>25.0</td>\n",
       "      <td>501.0</td>\n",
       "      <td>4631586.48</td>\n",
       "      <td>46020868.83</td>\n",
       "      <td>6915.280478</td>\n",
       "      <td>-12575.005339</td>\n",
       "      <td>51922.0</td>\n",
       "      <td>6231.0</td>\n",
       "      <td>104760.0</td>\n",
       "      <td>535228654.0</td>\n",
       "      <td>5.052350e+11</td>\n",
       "    </tr>\n",
       "    <tr>\n",
       "      <th>New York</th>\n",
       "      <td>393558</td>\n",
       "      <td>9802.0</td>\n",
       "      <td>0.0</td>\n",
       "      <td>4.0</td>\n",
       "      <td>4769565.73</td>\n",
       "      <td>42418706.18</td>\n",
       "      <td>1467.403411</td>\n",
       "      <td>-2663.316290</td>\n",
       "      <td>3793.0</td>\n",
       "      <td>152.0</td>\n",
       "      <td>215287.0</td>\n",
       "      <td>37531993.0</td>\n",
       "      <td>3.636988e+10</td>\n",
       "    </tr>\n",
       "    <tr>\n",
       "      <th>Queens</th>\n",
       "      <td>1938615</td>\n",
       "      <td>21384.0</td>\n",
       "      <td>102.0</td>\n",
       "      <td>3599.0</td>\n",
       "      <td>4446529.20</td>\n",
       "      <td>42741264.59</td>\n",
       "      <td>6233.255480</td>\n",
       "      <td>-11307.433445</td>\n",
       "      <td>61761.0</td>\n",
       "      <td>3991.0</td>\n",
       "      <td>299261.0</td>\n",
       "      <td>627454710.0</td>\n",
       "      <td>6.075466e+11</td>\n",
       "    </tr>\n",
       "    <tr>\n",
       "      <th>Staten Island</th>\n",
       "      <td>92776</td>\n",
       "      <td>1133.0</td>\n",
       "      <td>0.0</td>\n",
       "      <td>0.0</td>\n",
       "      <td>1268741.77</td>\n",
       "      <td>35019884.90</td>\n",
       "      <td>324.910537</td>\n",
       "      <td>-593.403718</td>\n",
       "      <td>4013.0</td>\n",
       "      <td>397.0</td>\n",
       "      <td>109115.0</td>\n",
       "      <td>40903284.0</td>\n",
       "      <td>4.018147e+10</td>\n",
       "    </tr>\n",
       "  </tbody>\n",
       "</table>\n",
       "</div>"
      ],
      "text/plain": [
       "               Postcode  Current fulltime  Job created  Job retain  \\\n",
       "Borough                                                              \n",
       "Bronx            461091            6871.0         22.0        61.0   \n",
       "Brooklyn        2074816           16197.0         25.0       501.0   \n",
       "New York         393558            9802.0          0.0         4.0   \n",
       "Queens          1938615           21384.0        102.0      3599.0   \n",
       "Staten Island     92776            1133.0          0.0         0.0   \n",
       "\n",
       "               Total Savings  Savings from beginning receiving benefits  \\\n",
       "Borough                                                                   \n",
       "Bronx             2630578.85                                24356310.51   \n",
       "Brooklyn          4631586.48                                46020868.83   \n",
       "New York          4769565.73                                42418706.18   \n",
       "Queens            4446529.20                                42741264.59   \n",
       "Staten Island     1268741.77                                35019884.90   \n",
       "\n",
       "                  Latitude     Longitude  Community Board  Council District  \\\n",
       "Borough                                                                       \n",
       "Bronx          1714.567956  -3103.272930           8566.0             609.0   \n",
       "Brooklyn       6915.280478 -12575.005339          51922.0            6231.0   \n",
       "New York       1467.403411  -2663.316290           3793.0             152.0   \n",
       "Queens         6233.255480 -11307.433445          61761.0            3991.0   \n",
       "Staten Island   324.910537   -593.403718           4013.0             397.0   \n",
       "\n",
       "               Census Tract          BIN           BBL  \n",
       "Borough                                                 \n",
       "Bronx              109651.0   80534929.0  7.918972e+10  \n",
       "Brooklyn           104760.0  535228654.0  5.052350e+11  \n",
       "New York           215287.0   37531993.0  3.636988e+10  \n",
       "Queens             299261.0  627454710.0  6.075466e+11  \n",
       "Staten Island      109115.0   40903284.0  4.018147e+10  "
      ]
     },
     "execution_count": 6,
     "metadata": {},
     "output_type": "execute_result"
    }
   ],
   "source": [
    "borough_group = data.groupby(['Borough']).sum()\n",
    "borough_group"
   ]
  },
  {
   "cell_type": "code",
   "execution_count": 7,
   "metadata": {},
   "outputs": [
    {
     "name": "stdout",
     "output_type": "stream",
     "text": [
      "Jobs created in Queens: 102.0\n"
     ]
    }
   ],
   "source": [
    "print('Jobs created in Queens: '+str(borough_group.loc['Queens','Job created']))"
   ]
  },
  {
   "cell_type": "markdown",
   "metadata": {},
   "source": [
    "Question 3"
   ]
  },
  {
   "cell_type": "code",
   "execution_count": 8,
   "metadata": {},
   "outputs": [
    {
     "name": "stdout",
     "output_type": "stream",
     "text": [
      "Number if unique email domains: 420\n"
     ]
    }
   ],
   "source": [
    "print('Number if unique email domains: '+str(len(set(data['company email']))-1))"
   ]
  },
  {
   "cell_type": "markdown",
   "metadata": {},
   "source": [
    "Question 4"
   ]
  },
  {
   "cell_type": "code",
   "execution_count": 9,
   "metadata": {},
   "outputs": [],
   "source": [
    "import collections"
   ]
  },
  {
   "cell_type": "code",
   "execution_count": 10,
   "metadata": {},
   "outputs": [
    {
     "data": {
      "text/plain": [
       "0"
      ]
     },
     "execution_count": 10,
     "metadata": {},
     "output_type": "execute_result"
    }
   ],
   "source": [
    "data['Company Name'].isnull().sum()"
   ]
  },
  {
   "cell_type": "markdown",
   "metadata": {},
   "source": [
    "Company Name does not contain NaN and number of unique company names is less than the number of entries therefore some Company Names are repeated\n",
    "\n",
    "\n",
    "Will need to be careful about counting the number of businesses per NTA"
   ]
  },
  {
   "cell_type": "code",
   "execution_count": 11,
   "metadata": {},
   "outputs": [],
   "source": [
    "NTA_Company = data[['NTA','Company Name']]"
   ]
  },
  {
   "cell_type": "code",
   "execution_count": 12,
   "metadata": {},
   "outputs": [],
   "source": [
    "NTA_dict = collections.defaultdict(list)\n",
    "for i,j in NTA_Company.to_records(index=False):\n",
    "    NTA_dict[i].append(j)"
   ]
  },
  {
   "cell_type": "code",
   "execution_count": 13,
   "metadata": {},
   "outputs": [
    {
     "data": {
      "text/html": [
       "<div>\n",
       "<style scoped>\n",
       "    .dataframe tbody tr th:only-of-type {\n",
       "        vertical-align: middle;\n",
       "    }\n",
       "\n",
       "    .dataframe tbody tr th {\n",
       "        vertical-align: top;\n",
       "    }\n",
       "\n",
       "    .dataframe thead th {\n",
       "        text-align: right;\n",
       "    }\n",
       "</style>\n",
       "<table border=\"1\" class=\"dataframe\">\n",
       "  <thead>\n",
       "    <tr style=\"text-align: right;\">\n",
       "      <th></th>\n",
       "      <th>NTA</th>\n",
       "      <th>Number of Companies</th>\n",
       "    </tr>\n",
       "  </thead>\n",
       "  <tbody>\n",
       "    <tr>\n",
       "      <th>4</th>\n",
       "      <td>Hunters Point-Sunnyside-West Maspeth</td>\n",
       "      <td>72</td>\n",
       "    </tr>\n",
       "    <tr>\n",
       "      <th>3</th>\n",
       "      <td>Sunset Park West</td>\n",
       "      <td>48</td>\n",
       "    </tr>\n",
       "    <tr>\n",
       "      <th>13</th>\n",
       "      <td>NaN</td>\n",
       "      <td>39</td>\n",
       "    </tr>\n",
       "    <tr>\n",
       "      <th>27</th>\n",
       "      <td>park-cemetery-etc-Brooklyn</td>\n",
       "      <td>15</td>\n",
       "    </tr>\n",
       "    <tr>\n",
       "      <th>21</th>\n",
       "      <td>Queensbridge-Ravenswood-Long Island City</td>\n",
       "      <td>15</td>\n",
       "    </tr>\n",
       "    <tr>\n",
       "      <th>...</th>\n",
       "      <td>...</td>\n",
       "      <td>...</td>\n",
       "    </tr>\n",
       "    <tr>\n",
       "      <th>52</th>\n",
       "      <td>Washington Heights South</td>\n",
       "      <td>1</td>\n",
       "    </tr>\n",
       "    <tr>\n",
       "      <th>12</th>\n",
       "      <td>Forest Hills</td>\n",
       "      <td>1</td>\n",
       "    </tr>\n",
       "    <tr>\n",
       "      <th>55</th>\n",
       "      <td>Morrisania-Melrose</td>\n",
       "      <td>1</td>\n",
       "    </tr>\n",
       "    <tr>\n",
       "      <th>34</th>\n",
       "      <td>Borough Park</td>\n",
       "      <td>1</td>\n",
       "    </tr>\n",
       "    <tr>\n",
       "      <th>79</th>\n",
       "      <td>Co-op City</td>\n",
       "      <td>1</td>\n",
       "    </tr>\n",
       "  </tbody>\n",
       "</table>\n",
       "<p>80 rows × 2 columns</p>\n",
       "</div>"
      ],
      "text/plain": [
       "                                         NTA  Number of Companies\n",
       "4       Hunters Point-Sunnyside-West Maspeth                   72\n",
       "3                           Sunset Park West                   48\n",
       "13                                       NaN                   39\n",
       "27                park-cemetery-etc-Brooklyn                   15\n",
       "21  Queensbridge-Ravenswood-Long Island City                   15\n",
       "..                                       ...                  ...\n",
       "52                  Washington Heights South                    1\n",
       "12                              Forest Hills                    1\n",
       "55                        Morrisania-Melrose                    1\n",
       "34                              Borough Park                    1\n",
       "79                                Co-op City                    1\n",
       "\n",
       "[80 rows x 2 columns]"
      ]
     },
     "execution_count": 13,
     "metadata": {},
     "output_type": "execute_result"
    }
   ],
   "source": [
    "NTA_count = {key:len(set(value)) for key, value in NTA_dict.items()}\n",
    "NTA_count = pd.DataFrame(NTA_count.items(), columns=['NTA','Number of Companies']).sort_values(by='Number of Companies', ascending=False)\n",
    "NTA_count"
   ]
  },
  {
   "cell_type": "code",
   "execution_count": 14,
   "metadata": {},
   "outputs": [],
   "source": [
    "n_businesses = NTA_count.loc[NTA_count['Number of Companies'].gt(4)]\n",
    "n_businesses = [i for i in n_businesses['NTA'] if str(i).lower()!='nan']"
   ]
  },
  {
   "cell_type": "code",
   "execution_count": 15,
   "metadata": {},
   "outputs": [],
   "source": [
    "ans = data.groupby(['NTA']).mean().loc[n_businesses][['Job created','Total Savings']]"
   ]
  },
  {
   "cell_type": "code",
   "execution_count": 16,
   "metadata": {},
   "outputs": [
    {
     "data": {
      "text/html": [
       "<div>\n",
       "<style scoped>\n",
       "    .dataframe tbody tr th:only-of-type {\n",
       "        vertical-align: middle;\n",
       "    }\n",
       "\n",
       "    .dataframe tbody tr th {\n",
       "        vertical-align: top;\n",
       "    }\n",
       "\n",
       "    .dataframe thead th {\n",
       "        text-align: right;\n",
       "    }\n",
       "</style>\n",
       "<table border=\"1\" class=\"dataframe\">\n",
       "  <thead>\n",
       "    <tr style=\"text-align: right;\">\n",
       "      <th></th>\n",
       "      <th>Job created</th>\n",
       "      <th>Total Savings</th>\n",
       "    </tr>\n",
       "    <tr>\n",
       "      <th>NTA</th>\n",
       "      <th></th>\n",
       "      <th></th>\n",
       "    </tr>\n",
       "  </thead>\n",
       "  <tbody>\n",
       "    <tr>\n",
       "      <th>Hunters Point-Sunnyside-West Maspeth</th>\n",
       "      <td>NaN</td>\n",
       "      <td>23931.398933</td>\n",
       "    </tr>\n",
       "    <tr>\n",
       "      <th>Sunset Park West</th>\n",
       "      <td>NaN</td>\n",
       "      <td>14316.976875</td>\n",
       "    </tr>\n",
       "    <tr>\n",
       "      <th>park-cemetery-etc-Brooklyn</th>\n",
       "      <td>NaN</td>\n",
       "      <td>14327.419333</td>\n",
       "    </tr>\n",
       "    <tr>\n",
       "      <th>Queensbridge-Ravenswood-Long Island City</th>\n",
       "      <td>NaN</td>\n",
       "      <td>61830.770625</td>\n",
       "    </tr>\n",
       "    <tr>\n",
       "      <th>Greenpoint</th>\n",
       "      <td>NaN</td>\n",
       "      <td>9753.649286</td>\n",
       "    </tr>\n",
       "    <tr>\n",
       "      <th>Mott Haven-Port Morris</th>\n",
       "      <td>3.333333</td>\n",
       "      <td>17843.937857</td>\n",
       "    </tr>\n",
       "    <tr>\n",
       "      <th>Hunts Point</th>\n",
       "      <td>12.000000</td>\n",
       "      <td>39246.016154</td>\n",
       "    </tr>\n",
       "    <tr>\n",
       "      <th>East Williamsburg</th>\n",
       "      <td>NaN</td>\n",
       "      <td>13990.626364</td>\n",
       "    </tr>\n",
       "    <tr>\n",
       "      <th>Carroll Gardens-Columbia Street-Red Hook</th>\n",
       "      <td>NaN</td>\n",
       "      <td>24337.390000</td>\n",
       "    </tr>\n",
       "    <tr>\n",
       "      <th>DUMBO-Vinegar Hill-Downtown Brooklyn-Boerum Hill</th>\n",
       "      <td>NaN</td>\n",
       "      <td>59950.340000</td>\n",
       "    </tr>\n",
       "    <tr>\n",
       "      <th>Bushwick South</th>\n",
       "      <td>10.000000</td>\n",
       "      <td>26140.455000</td>\n",
       "    </tr>\n",
       "    <tr>\n",
       "      <th>Manhattanville</th>\n",
       "      <td>NaN</td>\n",
       "      <td>2760.888889</td>\n",
       "    </tr>\n",
       "    <tr>\n",
       "      <th>Battery Park City-Lower Manhattan</th>\n",
       "      <td>NaN</td>\n",
       "      <td>469890.796667</td>\n",
       "    </tr>\n",
       "    <tr>\n",
       "      <th>Maspeth</th>\n",
       "      <td>10.000000</td>\n",
       "      <td>6658.283333</td>\n",
       "    </tr>\n",
       "    <tr>\n",
       "      <th>Crown Heights North</th>\n",
       "      <td>NaN</td>\n",
       "      <td>4036.298889</td>\n",
       "    </tr>\n",
       "    <tr>\n",
       "      <th>East New York</th>\n",
       "      <td>15.000000</td>\n",
       "      <td>48433.093333</td>\n",
       "    </tr>\n",
       "    <tr>\n",
       "      <th>Steinway</th>\n",
       "      <td>20.000000</td>\n",
       "      <td>11227.155714</td>\n",
       "    </tr>\n",
       "    <tr>\n",
       "      <th>College Point</th>\n",
       "      <td>2.000000</td>\n",
       "      <td>17159.372857</td>\n",
       "    </tr>\n",
       "    <tr>\n",
       "      <th>Springfield Gardens South-Brookville</th>\n",
       "      <td>NaN</td>\n",
       "      <td>17757.662000</td>\n",
       "    </tr>\n",
       "    <tr>\n",
       "      <th>SoHo-TriBeCa-Civic Center-Little Italy</th>\n",
       "      <td>NaN</td>\n",
       "      <td>37214.024000</td>\n",
       "    </tr>\n",
       "  </tbody>\n",
       "</table>\n",
       "</div>"
      ],
      "text/plain": [
       "                                                  Job created  Total Savings\n",
       "NTA                                                                         \n",
       "Hunters Point-Sunnyside-West Maspeth                      NaN   23931.398933\n",
       "Sunset Park West                                          NaN   14316.976875\n",
       "park-cemetery-etc-Brooklyn                                NaN   14327.419333\n",
       "Queensbridge-Ravenswood-Long Island City                  NaN   61830.770625\n",
       "Greenpoint                                                NaN    9753.649286\n",
       "Mott Haven-Port Morris                               3.333333   17843.937857\n",
       "Hunts Point                                         12.000000   39246.016154\n",
       "East Williamsburg                                         NaN   13990.626364\n",
       "Carroll Gardens-Columbia Street-Red Hook                  NaN   24337.390000\n",
       "DUMBO-Vinegar Hill-Downtown Brooklyn-Boerum Hill          NaN   59950.340000\n",
       "Bushwick South                                      10.000000   26140.455000\n",
       "Manhattanville                                            NaN    2760.888889\n",
       "Battery Park City-Lower Manhattan                         NaN  469890.796667\n",
       "Maspeth                                             10.000000    6658.283333\n",
       "Crown Heights North                                       NaN    4036.298889\n",
       "East New York                                       15.000000   48433.093333\n",
       "Steinway                                            20.000000   11227.155714\n",
       "College Point                                        2.000000   17159.372857\n",
       "Springfield Gardens South-Brookville                      NaN   17757.662000\n",
       "SoHo-TriBeCa-Civic Center-Little Italy                    NaN   37214.024000"
      ]
     },
     "execution_count": 16,
     "metadata": {},
     "output_type": "execute_result"
    }
   ],
   "source": [
    "ans"
   ]
  },
  {
   "cell_type": "code",
   "execution_count": 17,
   "metadata": {},
   "outputs": [],
   "source": [
    "ans.to_csv('JobCreated_TotalSavings_NTA.csv')"
   ]
  },
  {
   "cell_type": "code",
   "execution_count": null,
   "metadata": {},
   "outputs": [],
   "source": []
  },
  {
   "cell_type": "markdown",
   "metadata": {},
   "source": [
    "## Milestone Actions of Day 5"
   ]
  },
  {
   "cell_type": "code",
   "execution_count": 18,
   "metadata": {},
   "outputs": [],
   "source": [
    "from scipy import stats"
   ]
  },
  {
   "cell_type": "code",
   "execution_count": 19,
   "metadata": {},
   "outputs": [],
   "source": [
    "data = pd.read_csv('Value_of_Energy_Cost_Savings_Program_Savings_for_Businesses_-_FY2020.csv')"
   ]
  },
  {
   "cell_type": "markdown",
   "metadata": {},
   "source": [
    "Question 2 part 1"
   ]
  },
  {
   "cell_type": "code",
   "execution_count": 20,
   "metadata": {},
   "outputs": [
    {
     "data": {
      "image/png": "[encoded data removed]",
      "text/plain": [
       "<Figure size 432x288 with 1 Axes>"
      ]
     },
     "metadata": {},
     "output_type": "display_data"
    }
   ],
   "source": [
    "plt.scatter(data['Job created'], data['Total Savings'])\n",
    "\n",
    "plt.xlabel('Job created')\n",
    "plt.ylabel('Total Savings')\n",
    "plt.grid(False)"
   ]
  },
  {
   "cell_type": "code",
   "execution_count": 21,
   "metadata": {},
   "outputs": [
    {
     "data": {
      "image/png": "[encoded data removed]",
      "text/plain": [
       "<Figure size 432x288 with 1 Axes>"
      ]
     },
     "metadata": {},
     "output_type": "display_data"
    }
   ],
   "source": [
    "plt.scatter(data['Job created'], data['Total Savings'])\n",
    "\n",
    "plt.yscale('log')\n",
    "plt.xlabel('Job created')\n",
    "plt.ylabel('Total Savings')\n",
    "plt.grid(False)"
   ]
  },
  {
   "cell_type": "markdown",
   "metadata": {},
   "source": [
    "Question 2 part 2"
   ]
  },
  {
   "cell_type": "code",
   "execution_count": 22,
   "metadata": {
    "code_folding": [
     0
    ]
   },
   "outputs": [],
   "source": [
    "def binScalars(y, x, x0, x1, dx):\n",
    "    bins = np.round(np.arange(x0, x1, dx), 2)\n",
    "    my_dict = {}\n",
    "    for i in bins:\n",
    "        my_dict[str(i)] = []\n",
    "    \n",
    "    for i in range(len(y)):\n",
    "        if x[i] < x0 or x[i] > x1:\n",
    "            continue\n",
    "        else:\n",
    "            my_ind = int((x[i]-x0)/dx)\n",
    "\n",
    "            my_dict[str(np.round(x0+my_ind*dx,2))] += [y[i]]\n",
    "\n",
    "    binned_dat = np.zeros([len(bins),4])\n",
    "    binned_dat[:,0] = bins+dx/2\n",
    "    for i in range(len(bins)):\n",
    "        binned_dat[i,1] = np.average(my_dict[str(bins[i])])\n",
    "        binned_dat[i,2] = stats.sem(my_dict[str(bins[i])])\n",
    "        binned_dat[i,3] = np.std(my_dict[str(bins[i])])\n",
    "\n",
    "    return binned_dat"
   ]
  },
  {
   "cell_type": "code",
   "execution_count": 23,
   "metadata": {},
   "outputs": [
    {
     "data": {
      "text/plain": [
       "29     10.0\n",
       "37     60.0\n",
       "95      5.0\n",
       "120    12.0\n",
       "137    10.0\n",
       "324     2.0\n",
       "353     2.0\n",
       "414    15.0\n",
       "432     3.0\n",
       "433    20.0\n",
       "445    10.0\n",
       "Name: Job created, dtype: float64"
      ]
     },
     "execution_count": 23,
     "metadata": {},
     "output_type": "execute_result"
    }
   ],
   "source": [
    "data['Job created'][np.isfinite(data['Job created'])]"
   ]
  },
  {
   "cell_type": "code",
   "execution_count": 24,
   "metadata": {},
   "outputs": [
    {
     "name": "stderr",
     "output_type": "stream",
     "text": [
      "/home/andy/.local/lib/python3.6/site-packages/numpy/core/_methods.py:234: RuntimeWarning: Degrees of freedom <= 0 for slice\n",
      "  keepdims=keepdims)\n",
      "/home/andy/.local/lib/python3.6/site-packages/numpy/core/_methods.py:226: RuntimeWarning: invalid value encountered in double_scalars\n",
      "  ret = ret.dtype.type(ret / rcount)\n",
      "/home/andy/.local/lib/python3.6/site-packages/numpy/lib/function_base.py:380: RuntimeWarning: Mean of empty slice.\n",
      "  avg = a.mean(axis)\n",
      "/home/andy/.local/lib/python3.6/site-packages/numpy/core/_methods.py:170: RuntimeWarning: invalid value encountered in double_scalars\n",
      "  ret = ret.dtype.type(ret / rcount)\n",
      "/home/andy/.local/lib/python3.6/site-packages/numpy/core/_methods.py:195: RuntimeWarning: invalid value encountered in true_divide\n",
      "  arrmean, rcount, out=arrmean, casting='unsafe', subok=False)\n"
     ]
    }
   ],
   "source": [
    "x = np.array(data['Job created'][np.isfinite(data['Job created'])])\n",
    "y = np.array(data['Total Savings'][np.isfinite(data['Job created'])])\n",
    "binned_savings = binScalars(y, x, 0, 65, 5)"
   ]
  },
  {
   "cell_type": "code",
   "execution_count": 25,
   "metadata": {},
   "outputs": [
    {
     "data": {
      "image/png": "[encoded data removed]",
      "text/plain": [
       "<Figure size 432x288 with 1 Axes>"
      ]
     },
     "metadata": {},
     "output_type": "display_data"
    }
   ],
   "source": [
    "plt.scatter(binned_savings[:,0], binned_savings[:,1])\n",
    "\n",
    "plt.ylim([1000,100000])\n",
    "plt.yscale('log')\n",
    "plt.xlabel('Job created')\n",
    "plt.ylabel('Total Savings')\n",
    "plt.grid(False)"
   ]
  },
  {
   "cell_type": "markdown",
   "metadata": {},
   "source": [
    "Question 2 part 3"
   ]
  },
  {
   "cell_type": "code",
   "execution_count": 26,
   "metadata": {},
   "outputs": [
    {
     "data": {
      "text/plain": [
       "Index(['Company Name', 'company contact', 'company email', 'company phone',\n",
       "       'Address', 'City', 'State', 'Postcode', 'Industry', 'Industry descr',\n",
       "       'Company Type', 'Current fulltime', 'Job created', 'Job retain',\n",
       "       'Effective Date', 'Total Savings',\n",
       "       'Savings from beginning receiving benefits', 'Borough', 'Latitude',\n",
       "       'Longitude', 'Community Board', 'Council District', 'Census Tract',\n",
       "       'BIN', 'BBL', 'NTA'],\n",
       "      dtype='object')"
      ]
     },
     "execution_count": 26,
     "metadata": {},
     "output_type": "execute_result"
    }
   ],
   "source": [
    "data.columns"
   ]
  },
  {
   "cell_type": "code",
   "execution_count": 27,
   "metadata": {},
   "outputs": [],
   "source": [
    "data_month = data\n",
    "data_month['Month'] = [i[:2] for i in data['Effective Date']]"
   ]
  },
  {
   "cell_type": "code",
   "execution_count": 28,
   "metadata": {},
   "outputs": [],
   "source": [
    "month_mean = data_month.groupby(['Month']).mean()\n",
    "month_sum = data_month.groupby(['Month']).sum()"
   ]
  },
  {
   "cell_type": "code",
   "execution_count": 29,
   "metadata": {},
   "outputs": [
    {
     "data": {
      "text/plain": [
       "<matplotlib.legend.Legend at 0x7fec666d1940>"
      ]
     },
     "execution_count": 29,
     "metadata": {},
     "output_type": "execute_result"
    },
    {
     "data": {
      "image/png": "[encoded data removed]",
      "text/plain": [
       "<Figure size 432x288 with 1 Axes>"
      ]
     },
     "metadata": {},
     "output_type": "display_data"
    }
   ],
   "source": [
    "plt.plot(month_sum.index, month_sum['Job created'], color='C0', label='sum')\n",
    "plt.plot(month_mean.index, month_mean['Job created'], color='C1', label='mean')\n",
    "\n",
    "plt.grid(False)\n",
    "plt.xlabel('Month averaged over years')\n",
    "plt.ylabel('Job created')\n",
    "plt.legend(loc=2)"
   ]
  },
  {
   "cell_type": "code",
   "execution_count": null,
   "metadata": {},
   "outputs": [],
   "source": []
  }
 ],
 "metadata": {
  "hide_input": false,
  "kernelspec": {
   "display_name": "Python 3",
   "language": "python",
   "name": "python3"
  },
  "language_info": {
   "codemirror_mode": {
    "name": "ipython",
    "version": 3
   },
   "file_extension": ".py",
   "mimetype": "text/x-python",
   "name": "python",
   "nbconvert_exporter": "python",
   "pygments_lexer": "ipython3",
   "version": "3.6.8"
  }
 },
 "nbformat": 4,
 "nbformat_minor": 2
}
